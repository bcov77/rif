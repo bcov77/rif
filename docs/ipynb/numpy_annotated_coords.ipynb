{
 "cells": [
  {
   "cell_type": "code",
   "execution_count": 4,
   "metadata": {},
   "outputs": [
    {
     "name": "stdout",
     "output_type": "stream",
     "text": [
      "('pos', 'atype', 'anum', 'rtype')\n"
     ]
    }
   ],
   "source": [
    "import rif\n",
    "from rif.actor import Atom\n",
    "\n",
    "import numpy as np\n",
    "print(Atom.dtype.names)"
   ]
  },
  {
   "cell_type": "code",
   "execution_count": 5,
   "metadata": {},
   "outputs": [
    {
     "name": "stdout",
     "output_type": "stream",
     "text": [
      "[(([  0.,   1.,   2.],), 0, 0, 0) (([  3.,   4.,   5.],), 0, 0, 1)\n",
      " (([  6.,   7.,   8.],), 0, 0, 2) (([  9.,  10.,  11.],), 0, 0, 3)\n",
      " (([ 12.,  13.,  14.],), 0, 0, 4)]\n",
      "[[  0.   1.   2.   1.]\n",
      " [  3.   4.   5.   1.]\n",
      " [  6.   7.   8.   1.]\n",
      " [  9.  10.  11.   1.]\n",
      " [ 12.  13.  14.   1.]]\n",
      "[(([  0.,   1.,   2.],), 0, 0, 16256) (([  3.,   4.,   5.],), 0, 0, 16256)\n",
      " (([  6.,   7.,   8.],), 0, 0, 16256) (([  9.,  10.,  11.],), 0, 0, 16256)\n",
      " (([ 12.,  13.,  14.],), 0, 0, 16256)]\n",
      "[(([  0.,   1.,   2.],), 0, 0, 0) (([  3.,   4.,   5.],), 0, 0, 1)\n",
      " (([  6.,   7.,   8.],), 0, 0, 2) (([  9.,  10.,  11.],), 0, 0, 3)\n",
      " (([ 12.,  13.,  14.],), 0, 0, 4)]\n"
     ]
    }
   ],
   "source": [
    "a = np.zeros(5, dtype=Atom)\n",
    "a['pos']['raw'] = np.arange(15).reshape(5,3)\n",
    "a['rtype'] = np.arange(5)\n",
    "print(a)\n",
    "b = a.view('4f4')\n",
    "m = b[:,3].copy()\n",
    "b[:,3] = 1.0\n",
    "print(b)\n",
    "print(a)\n",
    "b[:,3] = m\n",
    "print(a)\n"
   ]
  },
  {
   "cell_type": "code",
   "execution_count": null,
   "metadata": {},
   "outputs": [],
   "source": []
  },
  {
   "cell_type": "code",
   "execution_count": 8,
   "metadata": {},
   "outputs": [
    {
     "data": {
      "text/plain": [
       "91"
      ]
     },
     "execution_count": 8,
     "metadata": {},
     "output_type": "execute_result"
    }
   ],
   "source": [
    "a = np.arange(7)\n",
    "np.dot(a  a"
   ]
  },
  {
   "cell_type": "code",
   "execution_count": null,
   "metadata": {
    "collapsed": true
   },
   "outputs": [],
   "source": []
  }
 ],
 "metadata": {
  "kernelspec": {
   "display_name": "Python 3",
   "language": "python",
   "name": "python3"
  },
  "language_info": {
   "codemirror_mode": {
    "name": "ipython",
    "version": 3
   },
   "file_extension": ".py",
   "mimetype": "text/x-python",
   "name": "python",
   "nbconvert_exporter": "python",
   "pygments_lexer": "ipython3",
   "version": "3.6.1"
  }
 },
 "nbformat": 4,
 "nbformat_minor": 2
}
